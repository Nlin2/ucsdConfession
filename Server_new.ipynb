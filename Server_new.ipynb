{
 "cells": [
  {
   "cell_type": "code",
   "execution_count": 11,
   "metadata": {},
   "outputs": [],
   "source": [
    "# API support\n",
    "import gspread # Google API\n",
    "import facebook # Facebook API\n",
    "from twython import Twython # Twitter API\n",
    "from oauth2client.service_account import ServiceAccountCredentials # for google api\n",
    "\n",
    "# features\n",
    "import hashlib # Encryption for UserID\n",
    "import re # Images + DM Filtering\n",
    "import requests # Image download\n",
    "import os # image deletion\n",
    "import spacy # Names redaction\n",
    "import sklearn as sk # Filteration\n",
    "import abc"
   ]
  },
  {
   "cell_type": "code",
   "execution_count": 9,
   "metadata": {},
   "outputs": [],
   "source": []
  },
  {
   "cell_type": "code",
   "execution_count": 18,
   "metadata": {},
   "outputs": [],
   "source": [
    "class socialMediaAPI(abc.ABC):\n",
    "    @abc.abstractmethod\n",
    "    def post(self, images: list):\n",
    "        pass"
   ]
  },
  {
   "cell_type": "code",
   "execution_count": 19,
   "metadata": {},
   "outputs": [],
   "source": [
    "class GoogleFormsAPI():\n",
    "    def __init__(self, client_secret):\n",
    "        scope =['https://spreadsheets.google.com/feeds',\n",
    "         'https://www.googleapis.com/auth/drive']\n",
    "        credentials = ServiceAccountCredentials.from_json_keyfile_name(client_secret, scope)\n",
    "        self.client = gspread.authorize(credentials)\n",
    "    def getAllPosts(self, spread_sheet_name, form_name):\n",
    "        return self.client.open(spread_sheet_name).worksheet(form_name).get_all_values()\n",
    "    def moveAllPosts(self, spread_sheet_name, from_form_name, to_form_name):\n",
    "        return\n",
    "\n",
    "\n",
    "class TwitterAPI(socialMediaAPI):\n",
    "    def __init__(self, consumer_api, comsumer_secret_api, access_token, access_token_secret):\n",
    "        self.client = Twython(consumer_api, comsumer_secret_api, access_token, access_token_secret)\n",
    "    def post(self, images: list):\n",
    "        return\n",
    "\n",
    "class InstagramAPI(socialMediaAPI):\n",
    "    def __init__(self):\n",
    "        self.client = None\n",
    "    def post(self, images: list):\n",
    "        return\n",
    "    \n",
    "class FacebookAPI(socialMediaAPI):\n",
    "    def __init__(self, fb_page_id, fb_page_access_token):\n",
    "        self.client = facebook.GraphAPI(fb_page_access_token)\n",
    "    def post(self, images: list):\n",
    "        return"
   ]
  },
  {
   "cell_type": "code",
   "execution_count": 3,
   "metadata": {},
   "outputs": [],
   "source": [
    "def tripCodeFunc(string):\n",
    "    h = hashlib.blake2b(key=b'ucsdCnfssns', digest_size=10)\n",
    "    h.update(string.encode('UTF-8'))\n",
    "    return h.hexdigest();\n",
    "\n",
    "def downloadImage(imageUrl, localFileName):\n",
    "    response = requests.get(imageUrl)\n",
    "    if response.status_code == 200:\n",
    "        print('Downloading %s...' % (localFileName))\n",
    "        with open(localFileName, 'wb') as fo:\n",
    "            for chunk in response.iter_content(4096):\n",
    "                fo.write(chunk)\n",
    "    print(\"Complete Downloading \" + localFileName)\n",
    "\n",
    "def next_available_row(worksheet):\n",
    "    str_list = list(filter(None, worksheet.col_values(1)))  # fastest\n",
    "    return str(len(str_list)+1)\n",
    "\n",
    "def clean_text(df, text_field):\n",
    "    df[text_field] = df[text_field].str.lower()\n",
    "    df[text_field] = df[text_field].apply(lambda elem: re.sub(r\"(@[A-Za-z0-9]+)|([^0-9A-Za-z \\t])|(\\w+:\\/\\/\\S+)|^rt|http.+?\", \"\", elem))  \n",
    "    return df\n",
    "\n",
    "def clean_str(s):\n",
    "    return s.lower().apply(lambda elem: re.sub(r\"(@[a-z0-9]+)|([^0-9a-z \\t])|(\\w+:\\/\\/\\S+)|^rt|http.+?\", \"\", elem))\n"
   ]
  },
  {
   "cell_type": "code",
   "execution_count": null,
   "metadata": {},
   "outputs": [],
   "source": []
  }
 ],
 "metadata": {
  "kernelspec": {
   "display_name": "Python 3",
   "language": "python",
   "name": "python3"
  },
  "language_info": {
   "codemirror_mode": {
    "name": "ipython",
    "version": 3
   },
   "file_extension": ".py",
   "mimetype": "text/x-python",
   "name": "python",
   "nbconvert_exporter": "python",
   "pygments_lexer": "ipython3",
   "version": "3.7.4"
  }
 },
 "nbformat": 4,
 "nbformat_minor": 2
}
